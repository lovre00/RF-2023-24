{
 "cells": [
  {
   "cell_type": "code",
   "execution_count": 32,
   "metadata": {},
   "outputs": [
    {
     "name": "stdout",
     "output_type": "stream",
     "text": [
      "              file_name\n",
      "0                 file1\n",
      "1             file2.txt\n",
      "2                 file3\n",
      "3    Secret_file_11.txt\n",
      "4    Secret_file_12.pdf\n",
      "5    Secret_file_22.png\n",
      "6   Secret_file_48.docx\n",
      "7    Secret_file_49.pdf\n",
      "8    Secret_file_52.jpg\n",
      "9   Secret_file_72.docx\n",
      "10   Secret_file_92.jpg\n",
      "11     Untitled-1.ipynb\n"
     ]
    }
   ],
   "source": [
    "import os\n",
    "import pandas as pd\n",
    "\n",
    "# specify the directory path where the files are located\n",
    "dir_path = \"C:\\\\Users\\\\PC\\\\RF\\\\lovregradac\"\n",
    "\n",
    "# create an empty list to store the file names\n",
    "file_names = []\n",
    "\n",
    "# iterate through all files in the directory\n",
    "for file in os.listdir(dir_path):\n",
    "    # check if the file is a regular file (i.e., not a directory)\n",
    "    if os.path.isfile(os.path.join(dir_path, file)):\n",
    "        # if so, add the file name to the list\n",
    "        file_names.append(file)\n",
    "\n",
    "# create a Pandas dataframe with the file names\n",
    "df = pd.DataFrame({'file_name': file_names})\n",
    "\n",
    "# print the dataframe\n",
    "print(df)"
   ]
  },
  {
   "cell_type": "code",
   "execution_count": 33,
   "metadata": {},
   "outputs": [
    {
     "name": "stdout",
     "output_type": "stream",
     "text": [
      "Requirement already satisfied: requests in c:\\users\\pc\\appdata\\local\\programs\\python\\python312\\lib\\site-packages (2.31.0)\n",
      "Requirement already satisfied: charset-normalizer<4,>=2 in c:\\users\\pc\\appdata\\local\\programs\\python\\python312\\lib\\site-packages (from requests) (3.3.2)\n",
      "Requirement already satisfied: idna<4,>=2.5 in c:\\users\\pc\\appdata\\local\\programs\\python\\python312\\lib\\site-packages (from requests) (3.6)\n",
      "Requirement already satisfied: urllib3<3,>=1.21.1 in c:\\users\\pc\\appdata\\local\\programs\\python\\python312\\lib\\site-packages (from requests) (2.2.1)\n",
      "Requirement already satisfied: certifi>=2017.4.17 in c:\\users\\pc\\appdata\\local\\programs\\python\\python312\\lib\\site-packages (from requests) (2024.2.2)\n",
      "Note: you may need to restart the kernel to use updated packages.\n"
     ]
    },
    {
     "name": "stderr",
     "output_type": "stream",
     "text": [
      "\n",
      "[notice] A new release of pip is available: 23.3.2 -> 24.0\n",
      "[notice] To update, run: python.exe -m pip install --upgrade pip\n"
     ]
    }
   ],
   "source": [
    "pip install requests"
   ]
  },
  {
   "cell_type": "code",
   "execution_count": 34,
   "metadata": {},
   "outputs": [],
   "source": [
    "import requests\n",
    "def download_file_with_custom_headers(url, local_filename):\n",
    "    headers = {\n",
    "        'User-Agent': 'Mozilla/5.0 (Windows NT 10.0; Win64; x64) AppleWebKit/537.36 (KHTML, like Gecko) Chrome/58.0.3029.110 Safari/537.3'\n",
    "    }\n",
    "    \n",
    "    with requests.get(url, headers=headers, stream=True) as r:\n",
    "        r.raise_for_status()  # This will throw an exception for non-200 responses\n",
    "        with open(local_filename, 'wb') as f:\n",
    "            for chunk in r.iter_content(chunk_size=8192): \n",
    "                f.write(chunk)\n",
    "    print(\"File downloaded successfully.\")"
   ]
  },
  {
   "cell_type": "code",
   "execution_count": 35,
   "metadata": {},
   "outputs": [
    {
     "name": "stdout",
     "output_type": "stream",
     "text": [
      "['', '.txt', '', '.txt', '.pdf', '.png', '.docx', '.pdf', '.jpg', '.docx', '.jpg', '.ipynb']\n",
      "         File name Extension\n",
      "0            file1          \n",
      "1            file2      .txt\n",
      "2            file3          \n",
      "3   Secret_file_11      .txt\n",
      "4   Secret_file_12      .pdf\n",
      "5   Secret_file_22      .png\n",
      "6   Secret_file_48     .docx\n",
      "7   Secret_file_49      .pdf\n",
      "8   Secret_file_52      .jpg\n",
      "9   Secret_file_72     .docx\n",
      "10  Secret_file_92      .jpg\n",
      "11      Untitled-1    .ipynb\n"
     ]
    }
   ],
   "source": [
    "extensions = []\n",
    "files = []\n",
    "\n",
    "for file in file_names:\n",
    "    name = os.path.splitext(file)\n",
    "    files.append(name[0])\n",
    "    extensions.append(name[1])\n",
    "\n",
    "print(extensions)\n",
    "\n",
    "table = pd.DataFrame(list(zip(files,extensions)))\n",
    "table.columns = ['File name', 'Extension']\n",
    "print(table)\n"
   ]
  },
  {
   "cell_type": "code",
   "execution_count": 36,
   "metadata": {},
   "outputs": [
    {
     "name": "stdout",
     "output_type": "stream",
     "text": [
      "Note: you may need to restart the kernel to use updated packages.\n"
     ]
    },
    {
     "name": "stderr",
     "output_type": "stream",
     "text": [
      "ERROR: Ignored the following yanked versions: 20081119\n",
      "ERROR: Could not find a version that satisfies the requirement hashlib (from versions: none)\n",
      "ERROR: No matching distribution found for hashlib\n",
      "\n",
      "[notice] A new release of pip is available: 23.3.2 -> 24.0\n",
      "[notice] To update, run: python.exe -m pip install --upgrade pip\n"
     ]
    }
   ],
   "source": [
    "pip install hashlib"
   ]
  },
  {
   "cell_type": "code",
   "execution_count": 37,
   "metadata": {},
   "outputs": [],
   "source": [
    "import hashlib"
   ]
  },
  {
   "cell_type": "code",
   "execution_count": 38,
   "metadata": {},
   "outputs": [
    {
     "name": "stdout",
     "output_type": "stream",
     "text": [
      "              Name Extension                               MD5  \\\n",
      "0            file1            f1b5c93cdf5be24404bf7616ab85ca2b   \n",
      "1            file2      .txt  1a32355ead4bc1a71f7597e07adada5a   \n",
      "2            file3            d3e83f05578eb58701d4293ac9df25ec   \n",
      "3   Secret_file_11      .txt  187b0341b64a0e16d74ea3b50e22e6c2   \n",
      "4   Secret_file_12      .pdf  a0c34dd882f1e7e5af2341b1aadb532c   \n",
      "5   Secret_file_22      .png  40bba5dd7b99c5e99d0877993ec3f3fb   \n",
      "6   Secret_file_48     .docx  7a2fdf83ebce571af7fcb93a8825ead1   \n",
      "7   Secret_file_49      .pdf  40bba5dd7b99c5e99d0877993ec3f3fb   \n",
      "8   Secret_file_52      .jpg  8de0128acae226c00efb5f98a9486e68   \n",
      "9   Secret_file_72     .docx  098cb2f52dda9e3195075d765a9ff01f   \n",
      "10  Secret_file_92      .jpg  4266ea20320c598bc5d7b1d731e3e9e9   \n",
      "11      Untitled-1    .ipynb  2df1c006db6d15c4aa0e22fc25761bb6   \n",
      "\n",
      "                                        SHA1  \\\n",
      "0   3a029fa12c929e4efd70b8ce90e8d1946ce4092e   \n",
      "1   6ca90d4163424b959d6d12616dfa8ee6d6213071   \n",
      "2   5d23c6d0e935e877ef1856c35628cd48a0948f58   \n",
      "3   08152ff79a16f2a181174eb5fe8de0197f4d722f   \n",
      "4   55afda15a501e69ee9bf94fd26e9d74239127e01   \n",
      "5   19b85cc663198f1145078e17dc4af9966b4b9e86   \n",
      "6   e6d6de3bc2c41cccc1d71a27ec175b0bf2c73e20   \n",
      "7   19b85cc663198f1145078e17dc4af9966b4b9e86   \n",
      "8   c15e32d27635f248c1c8b66bb012850e5b342119   \n",
      "9   fb5184f27b5780c74714d89f6c43da0c48e8cd3a   \n",
      "10  1a30a1d139131e7105a1896d7719c85c03003a59   \n",
      "11  d0528f6049334bb78cbd6dfa7192f60d8e30611b   \n",
      "\n",
      "                                               SHA256  \n",
      "0   c0e085881b6127f10966db379621ae2973b0084594fdd3...  \n",
      "1   ee17e61b56ef3a42534e474ceabdfe22cc9c034c4be6cc...  \n",
      "2   fd9eeca35f2fc9cc70859221429c786d4e7f30dc601dcd...  \n",
      "3   5f90ecf090772e3366353171a2e8b9c4001934cdc3a5e0...  \n",
      "4   826626284dca9d999dff621e257b86f4c50b884ecff512...  \n",
      "5   648e6819c965d82acce9dbd3eddb68a0fe2f5c0d1153f2...  \n",
      "6   0f56464717fa229b209549d66e32144644834ae3417ab3...  \n",
      "7   648e6819c965d82acce9dbd3eddb68a0fe2f5c0d1153f2...  \n",
      "8   348175d0b34e14679b11580f653661d0d5195dc6ee7707...  \n",
      "9   7b38723a56bae8faf5c19425592ddd02433f55728e001f...  \n",
      "10  3e174794698cbdf84d9a5cd352f755d0e6bdfc5dc65e0d...  \n",
      "11  1a50b8f8907d17e5ef5eac8d7efd9107d519201292d126...  \n"
     ]
    }
   ],
   "source": [
    "md5s = []\n",
    "sha1s = []\n",
    "sha256s = []\n",
    "\n",
    "for file in file_names:\n",
    "    a = open(file, 'rb').read()\n",
    "    md5s.append(hashlib.md5(a).hexdigest())\n",
    "    sha1s.append(hashlib.sha1(a).hexdigest())\n",
    "    sha256s.append(hashlib.sha256(a).hexdigest())\n",
    "\n",
    "hashes = pd.DataFrame(list(zip(files, extensions, md5s, sha1s, sha256s)))\n",
    "hashes.columns = [\"Name\", \"Extension\", \"MD5\", \"SHA1\", \"SHA256\"]\n",
    "\n",
    "print(hashes)\n",
    "\n"
   ]
  },
  {
   "cell_type": "code",
   "execution_count": 39,
   "metadata": {},
   "outputs": [
    {
     "name": "stdout",
     "output_type": "stream",
     "text": [
      "Requirement already satisfied: python-magic_bin==0.4.14 in c:\\users\\pc\\appdata\\local\\programs\\python\\python312\\lib\\site-packages (0.4.14)\n",
      "Note: you may need to restart the kernel to use updated packages.\n"
     ]
    },
    {
     "name": "stderr",
     "output_type": "stream",
     "text": [
      "\n",
      "[notice] A new release of pip is available: 23.3.2 -> 24.0\n",
      "[notice] To update, run: python.exe -m pip install --upgrade pip\n"
     ]
    }
   ],
   "source": [
    "pip install python-magic_bin==0.4.14"
   ]
  },
  {
   "cell_type": "code",
   "execution_count": 40,
   "metadata": {},
   "outputs": [
    {
     "name": "stdout",
     "output_type": "stream",
     "text": [
      "              file Extension                               MD5  \\\n",
      "0            file1            f1b5c93cdf5be24404bf7616ab85ca2b   \n",
      "1            file2      .txt  1a32355ead4bc1a71f7597e07adada5a   \n",
      "2            file3            d3e83f05578eb58701d4293ac9df25ec   \n",
      "3   Secret_file_11      .txt  187b0341b64a0e16d74ea3b50e22e6c2   \n",
      "4   Secret_file_12      .pdf  a0c34dd882f1e7e5af2341b1aadb532c   \n",
      "5   Secret_file_22      .png  40bba5dd7b99c5e99d0877993ec3f3fb   \n",
      "6   Secret_file_48     .docx  7a2fdf83ebce571af7fcb93a8825ead1   \n",
      "7   Secret_file_49      .pdf  40bba5dd7b99c5e99d0877993ec3f3fb   \n",
      "8   Secret_file_52      .jpg  8de0128acae226c00efb5f98a9486e68   \n",
      "9   Secret_file_72     .docx  098cb2f52dda9e3195075d765a9ff01f   \n",
      "10  Secret_file_92      .jpg  4266ea20320c598bc5d7b1d731e3e9e9   \n",
      "11      Untitled-1    .ipynb  2df1c006db6d15c4aa0e22fc25761bb6   \n",
      "\n",
      "                                        SHA1  \\\n",
      "0   3a029fa12c929e4efd70b8ce90e8d1946ce4092e   \n",
      "1   6ca90d4163424b959d6d12616dfa8ee6d6213071   \n",
      "2   5d23c6d0e935e877ef1856c35628cd48a0948f58   \n",
      "3   08152ff79a16f2a181174eb5fe8de0197f4d722f   \n",
      "4   55afda15a501e69ee9bf94fd26e9d74239127e01   \n",
      "5   19b85cc663198f1145078e17dc4af9966b4b9e86   \n",
      "6   e6d6de3bc2c41cccc1d71a27ec175b0bf2c73e20   \n",
      "7   19b85cc663198f1145078e17dc4af9966b4b9e86   \n",
      "8   c15e32d27635f248c1c8b66bb012850e5b342119   \n",
      "9   fb5184f27b5780c74714d89f6c43da0c48e8cd3a   \n",
      "10  1a30a1d139131e7105a1896d7719c85c03003a59   \n",
      "11  d0528f6049334bb78cbd6dfa7192f60d8e30611b   \n",
      "\n",
      "                                               SHA256  \\\n",
      "0   c0e085881b6127f10966db379621ae2973b0084594fdd3...   \n",
      "1   ee17e61b56ef3a42534e474ceabdfe22cc9c034c4be6cc...   \n",
      "2   fd9eeca35f2fc9cc70859221429c786d4e7f30dc601dcd...   \n",
      "3   5f90ecf090772e3366353171a2e8b9c4001934cdc3a5e0...   \n",
      "4   826626284dca9d999dff621e257b86f4c50b884ecff512...   \n",
      "5   648e6819c965d82acce9dbd3eddb68a0fe2f5c0d1153f2...   \n",
      "6   0f56464717fa229b209549d66e32144644834ae3417ab3...   \n",
      "7   648e6819c965d82acce9dbd3eddb68a0fe2f5c0d1153f2...   \n",
      "8   348175d0b34e14679b11580f653661d0d5195dc6ee7707...   \n",
      "9   7b38723a56bae8faf5c19425592ddd02433f55728e001f...   \n",
      "10  3e174794698cbdf84d9a5cd352f755d0e6bdfc5dc65e0d...   \n",
      "11  1a50b8f8907d17e5ef5eac8d7efd9107d519201292d126...   \n",
      "\n",
      "                                                MAGIC  \n",
      "0                                Microsoft Word 2007+  \n",
      "1                ASCII text, with no line terminators  \n",
      "2                           PDF document, version 1.5  \n",
      "3        UTF-8 Unicode text, with no line terminators  \n",
      "4                           PDF document, version 1.3  \n",
      "5                           PDF document, version 1.3  \n",
      "6                                Microsoft Word 2007+  \n",
      "7                           PDF document, version 1.3  \n",
      "8                           PDF document, version 1.3  \n",
      "9                                Microsoft Word 2007+  \n",
      "10  JPEG image data, JFIF standard 1.02, aspect ra...  \n",
      "11                                         ASCII text  \n"
     ]
    }
   ],
   "source": [
    "import magic\n",
    "magic_numbers = []\n",
    "\n",
    "for file in file_names:\n",
    "    magic_numbers.append(magic.from_file(file))\n",
    "\n",
    "new = pd.DataFrame(list(zip(files, extensions, md5s, sha1s, sha256s, magic_numbers)))\n",
    "new.columns = [\"file\", \"Extension\", \"MD5\", \"SHA1\", \"SHA256\", \"MAGIC\"]\n",
    "\n",
    "print(new)\n",
    "\n"
   ]
  },
  {
   "cell_type": "markdown",
   "metadata": {},
   "source": []
  },
  {
   "cell_type": "code",
   "execution_count": 41,
   "metadata": {},
   "outputs": [
    {
     "name": "stdout",
     "output_type": "stream",
     "text": [
      "              Name Extensions                               MD5  \\\n",
      "0            file1             f1b5c93cdf5be24404bf7616ab85ca2b   \n",
      "1            file2       .txt  1a32355ead4bc1a71f7597e07adada5a   \n",
      "2            file3             d3e83f05578eb58701d4293ac9df25ec   \n",
      "3   Secret_file_11       .txt  187b0341b64a0e16d74ea3b50e22e6c2   \n",
      "4   Secret_file_12       .pdf  a0c34dd882f1e7e5af2341b1aadb532c   \n",
      "5   Secret_file_22       .png  40bba5dd7b99c5e99d0877993ec3f3fb   \n",
      "6   Secret_file_48      .docx  7a2fdf83ebce571af7fcb93a8825ead1   \n",
      "7   Secret_file_49       .pdf  40bba5dd7b99c5e99d0877993ec3f3fb   \n",
      "8   Secret_file_52       .jpg  8de0128acae226c00efb5f98a9486e68   \n",
      "9   Secret_file_72      .docx  098cb2f52dda9e3195075d765a9ff01f   \n",
      "10  Secret_file_92       .jpg  4266ea20320c598bc5d7b1d731e3e9e9   \n",
      "11      Untitled-1     .ipynb  2df1c006db6d15c4aa0e22fc25761bb6   \n",
      "\n",
      "                                        SHA1  \\\n",
      "0   3a029fa12c929e4efd70b8ce90e8d1946ce4092e   \n",
      "1   6ca90d4163424b959d6d12616dfa8ee6d6213071   \n",
      "2   5d23c6d0e935e877ef1856c35628cd48a0948f58   \n",
      "3   08152ff79a16f2a181174eb5fe8de0197f4d722f   \n",
      "4   55afda15a501e69ee9bf94fd26e9d74239127e01   \n",
      "5   19b85cc663198f1145078e17dc4af9966b4b9e86   \n",
      "6   e6d6de3bc2c41cccc1d71a27ec175b0bf2c73e20   \n",
      "7   19b85cc663198f1145078e17dc4af9966b4b9e86   \n",
      "8   c15e32d27635f248c1c8b66bb012850e5b342119   \n",
      "9   fb5184f27b5780c74714d89f6c43da0c48e8cd3a   \n",
      "10  1a30a1d139131e7105a1896d7719c85c03003a59   \n",
      "11  d0528f6049334bb78cbd6dfa7192f60d8e30611b   \n",
      "\n",
      "                                               SHA256  \\\n",
      "0   c0e085881b6127f10966db379621ae2973b0084594fdd3...   \n",
      "1   ee17e61b56ef3a42534e474ceabdfe22cc9c034c4be6cc...   \n",
      "2   fd9eeca35f2fc9cc70859221429c786d4e7f30dc601dcd...   \n",
      "3   5f90ecf090772e3366353171a2e8b9c4001934cdc3a5e0...   \n",
      "4   826626284dca9d999dff621e257b86f4c50b884ecff512...   \n",
      "5   648e6819c965d82acce9dbd3eddb68a0fe2f5c0d1153f2...   \n",
      "6   0f56464717fa229b209549d66e32144644834ae3417ab3...   \n",
      "7   648e6819c965d82acce9dbd3eddb68a0fe2f5c0d1153f2...   \n",
      "8   348175d0b34e14679b11580f653661d0d5195dc6ee7707...   \n",
      "9   7b38723a56bae8faf5c19425592ddd02433f55728e001f...   \n",
      "10  3e174794698cbdf84d9a5cd352f755d0e6bdfc5dc65e0d...   \n",
      "11  1a50b8f8907d17e5ef5eac8d7efd9107d519201292d126...   \n",
      "\n",
      "                                                Magic  \\\n",
      "0                                Microsoft Word 2007+   \n",
      "1                ASCII text, with no line terminators   \n",
      "2                           PDF document, version 1.5   \n",
      "3        UTF-8 Unicode text, with no line terminators   \n",
      "4                           PDF document, version 1.3   \n",
      "5                           PDF document, version 1.3   \n",
      "6                                Microsoft Word 2007+   \n",
      "7                           PDF document, version 1.3   \n",
      "8                           PDF document, version 1.3   \n",
      "9                                Microsoft Word 2007+   \n",
      "10  JPEG image data, JFIF standard 1.02, aspect ra...   \n",
      "11                                         ASCII text   \n",
      "\n",
      "                                             Mimetype  \n",
      "0                                                None  \n",
      "1                                          text/plain  \n",
      "2                                                None  \n",
      "3                                          text/plain  \n",
      "4                                     application/pdf  \n",
      "5                                           image/png  \n",
      "6   application/vnd.openxmlformats-officedocument....  \n",
      "7                                     application/pdf  \n",
      "8                                          image/jpeg  \n",
      "9   application/vnd.openxmlformats-officedocument....  \n",
      "10                                         image/jpeg  \n",
      "11                                               None  \n"
     ]
    }
   ],
   "source": [
    "import mimetypes\n",
    "extension_matches = []\n",
    "\n",
    "for filename, extension, magic in zip(file_names, extensions, magic_numbers):\n",
    "    extension_matches.append(str(mimetypes.guess_type(filename)[0]))\n",
    "\n",
    "\n",
    "final = pd.DataFrame(list(zip(files,extensions,md5s,sha1s,sha256s, magic_numbers, extension_matches)))\n",
    "final.columns = [\"Name\", \"Extensions\", \"MD5\", \"SHA1\", \"SHA256\", \"Magic\", \"Mimetype\"]\n",
    "\n",
    "print(final)"
   ]
  },
  {
   "cell_type": "code",
   "execution_count": 53,
   "metadata": {},
   "outputs": [
    {
     "name": "stdout",
     "output_type": "stream",
     "text": [
      "             Name Extensions                               MD5  \\\n",
      "8  Secret_file_52       .jpg  8de0128acae226c00efb5f98a9486e68   \n",
      "\n",
      "                                       SHA1  \\\n",
      "8  c15e32d27635f248c1c8b66bb012850e5b342119   \n",
      "\n",
      "                                              SHA256  \\\n",
      "8  348175d0b34e14679b11580f653661d0d5195dc6ee7707...   \n",
      "\n",
      "                       Magic    Mimetype  \n",
      "8  PDF document, version 1.3  image/jpeg  \n"
     ]
    }
   ],
   "source": [
    "print(final.loc[final['SHA1']==\"c15e32d27635f248c1c8b66bb012850e5b342119\"])"
   ]
  }
 ],
 "metadata": {
  "kernelspec": {
   "display_name": "Python 3",
   "language": "python",
   "name": "python3"
  },
  "language_info": {
   "codemirror_mode": {
    "name": "ipython",
    "version": 3
   },
   "file_extension": ".py",
   "mimetype": "text/x-python",
   "name": "python",
   "nbconvert_exporter": "python",
   "pygments_lexer": "ipython3",
   "version": "3.12.1"
  }
 },
 "nbformat": 4,
 "nbformat_minor": 2
}
