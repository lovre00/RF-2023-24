{
 "cells": [
  {
   "cell_type": "code",
   "execution_count": null,
   "metadata": {},
   "outputs": [],
   "source": [
    "import re\n",
    "import datetime\n",
    "import pandas as pd\n",
    "import os\n",
    "import hashlib\n",
    "import time\n",
    "\n",
    "usb_devices = []\n",
    "\n",
    "with open(\"setupapi.dev2.log\", \"r\") as log_file:\n",
    "\n",
    "    for line in log_file:\n",
    "        check = re.match(r'^>>>  \\[Device Install.*#(Disk&Ven_[A-Za-z0-9]+)&(Prod_([\\w\\s\\S]+?))&(Rev_([\\w\\s\\S]+?))#([\\w\\s\\S]+?)#.*\\]', line)\n",
    "        if (check is  None):\n",
    "            continue\n",
    "\n",
    "        event_time = next(log_file).replace(\">>>  Section start \",\"\").replace(\"\\n\",\"\")\n",
    "        \n",
    "        usb_device = {\n",
    "            \"device_vendor_id\": check.group(1),\n",
    "            \"device_product_id\": check.group(2),\n",
    "            \"device_instance_id\": check.group(4),\n",
    "            \"serial_number_id\": check.group(6),\n",
    "            \"event_time\": event_time\n",
    "        }\n",
    "\n",
    "        usb_devices.append(usb_device)\n",
    "\n",
    "usbs = pd.DataFrame(usb_devices)\n",
    "print(usbs)\n"
   ]
  },
  {
   "cell_type": "code",
   "execution_count": 91,
   "metadata": {},
   "outputs": [
    {
     "name": "stdout",
     "output_type": "stream",
     "text": [
      "                    filename extension  \\\n",
      "0         Secret_file_11.txt      .txt   \n",
      "1  Secret_file_92 - Copy.jpg      .jpg   \n",
      "2         Secret_file_92.pdf      .pdf   \n",
      "\n",
      "                                       sha1                               md5  \\\n",
      "0  08152ff79a16f2a181174eb5fe8de0197f4d722f  187b0341b64a0e16d74ea3b50e22e6c2   \n",
      "1  1a30a1d139131e7105a1896d7719c85c03003a59  4266ea20320c598bc5d7b1d731e3e9e9   \n",
      "2  1a30a1d139131e7105a1896d7719c85c03003a59  4266ea20320c598bc5d7b1d731e3e9e9   \n",
      "\n",
      "              creation_time         modification_time  \\\n",
      "0  Mon Mar 25 09:22:32 2024  Mon Oct 28 16:08:46 2019   \n",
      "1  Mon Mar 25 09:33:18 2024  Mon Oct 28 16:09:32 2019   \n",
      "2  Mon Mar 25 09:22:32 2024  Mon Oct 28 16:09:32 2019   \n",
      "\n",
      "                access_time  \n",
      "0  Mon Mar 25 09:35:07 2024  \n",
      "1  Mon Mar 25 09:35:07 2024  \n",
      "2  Mon Mar 25 09:35:07 2024  \n"
     ]
    }
   ],
   "source": [
    "dir_path = \"C:\\\\Users\\\\PC\\\\RF\\\\lovregradac\\\\lab3\"\n",
    "file_names=[]\n",
    "extensions=[]\n",
    "md5s=[]\n",
    "sha1s=[]\n",
    "sha256s=[]\n",
    "\n",
    "creation_times = []\n",
    "modification_times = []\n",
    "access_times = []\n",
    "\n",
    "def file2hash(filename, hash):\n",
    "    with open(filename, 'rb', buffering=0) as f:\n",
    "        return hash(f.read()).hexdigest()\n",
    "\n",
    "for file in os.listdir(dir_path):\n",
    "    path = os.path.join(dir_path, file)\n",
    "\n",
    "    if os.path.isfile(path):\n",
    "        name, extension = os.path.splitext(file)\n",
    "        file_names.append(file)\n",
    "        extensions.append(extension)\n",
    "        md5s.append(file2hash(path,hashlib.md5))\n",
    "        sha1s.append(file2hash(path, hashlib.sha1))\n",
    "        sha256s.append(file2hash(path, hashlib.sha256))\n",
    "        creation_times.append(time.ctime(os.path.getctime(path)))\n",
    "        modification_times.append(time.ctime(os.path.getmtime(path)))\n",
    "        access_times.append(time.ctime(os.path.getatime(path)))\n",
    "\n",
    "df2 = pd.DataFrame({'filename': file_names,\n",
    "                    'extension': extensions,\n",
    "                    'sha1': sha1s,\n",
    "                    'md5':md5s,\n",
    "                    'creation_time': creation_times,\n",
    "                    'modification_time': modification_times,\n",
    "                    'access_time': access_times})\n",
    "\n",
    "print(df2)"
   ]
  }
 ],
 "metadata": {
  "kernelspec": {
   "display_name": "Python 3",
   "language": "python",
   "name": "python3"
  },
  "language_info": {
   "codemirror_mode": {
    "name": "ipython",
    "version": 3
   },
   "file_extension": ".py",
   "mimetype": "text/x-python",
   "name": "python",
   "nbconvert_exporter": "python",
   "pygments_lexer": "ipython3",
   "version": "3.12.1"
  }
 },
 "nbformat": 4,
 "nbformat_minor": 2
}
